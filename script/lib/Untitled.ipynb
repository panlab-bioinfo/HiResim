{
 "cells": [
  {
   "cell_type": "code",
   "execution_count": null,
   "id": "7051c887-e07b-4087-9016-2745c05d2855",
   "metadata": {},
   "outputs": [],
   "source": [
    "for i in range(5):\n",
    "    bash run.sh i &"
   ]
  }
 ],
 "metadata": {
  "kernelspec": {
   "display_name": "Python 3 (ipykernel)",
   "language": "python",
   "name": "python3"
  },
  "language_info": {
   "codemirror_mode": {
    "name": "ipython",
    "version": 3
   },
   "file_extension": ".py",
   "mimetype": "text/x-python",
   "name": "python",
   "nbconvert_exporter": "python",
   "pygments_lexer": "ipython3",
   "version": "3.8.13"
  }
 },
 "nbformat": 4,
 "nbformat_minor": 5
}
