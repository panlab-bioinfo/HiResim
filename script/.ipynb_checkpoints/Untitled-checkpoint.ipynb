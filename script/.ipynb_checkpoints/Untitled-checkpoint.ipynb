{
 "cells": [
  {
   "cell_type": "code",
   "execution_count": 1,
   "id": "b6d38f66-d0b2-4f45-922f-67a158b0fa2a",
   "metadata": {},
   "outputs": [],
   "source": [
    "from Bio import SeqIO\n",
    "from Bio.Seq import Seq"
   ]
  },
  {
   "cell_type": "code",
   "execution_count": 18,
   "id": "d55ff1d9-f485-48f8-a975-94dea6be5199",
   "metadata": {},
   "outputs": [],
   "source": [
    "def circulator(fasta, output_file_name):\n",
    "    # fasta=SeqIO.parse(input_file,\"fasta\")\n",
    "    print(fasta.seq)\n",
    "    new_seq = str(fasta.seq)+str(fasta.seq[:30000])\n",
    "    print(\"new_seq\",new_seq)\n",
    "    print(fasta)\n",
    "    fasta.seq = new_seq\n",
    "    with open(output_file_name,'w') as file:\n",
    "        SeqIO.write(fasta, file, \"fasta\")"
   ]
  },
  {
   "cell_type": "code",
   "execution_count": 19,
   "id": "3b0a177f-7022-4fc4-9f08-f7979f6e754e",
   "metadata": {},
   "outputs": [
    {
     "name": "stdout",
     "output_type": "stream",
     "text": [
      "ATCG\n",
      "new_seq ATCG['A', 'T', 'C', 'G']\n",
      "ID: NC_007181.1\n",
      "Name: NC_007181.1\n",
      "Description: NC_007181.1\n",
      "Number of features: 0\n",
      "Seq('ATCG')\n"
     ]
    },
    {
     "ename": "TypeError",
     "evalue": "SeqRecord (id=NC_007181.1) has an invalid sequence.",
     "output_type": "error",
     "traceback": [
      "\u001b[0;31m---------------------------------------------------------------------------\u001b[0m",
      "\u001b[0;31mTypeError\u001b[0m                                 Traceback (most recent call last)",
      "Input \u001b[0;32mIn [19]\u001b[0m, in \u001b[0;36m<cell line: 6>\u001b[0;34m()\u001b[0m\n\u001b[1;32m      4\u001b[0m         record_seq \u001b[38;5;241m=\u001b[39m record\u001b[38;5;241m.\u001b[39mseq\n\u001b[1;32m      5\u001b[0m output_file_name \u001b[38;5;241m=\u001b[39m \u001b[38;5;124m\"\u001b[39m\u001b[38;5;124m/data/huixingqi/sim_meta/HiResim/strain.fasta\u001b[39m\u001b[38;5;124m\"\u001b[39m\n\u001b[0;32m----> 6\u001b[0m \u001b[43mcirculator\u001b[49m\u001b[43m(\u001b[49m\u001b[43mrecord\u001b[49m\u001b[43m,\u001b[49m\u001b[43moutput_file_name\u001b[49m\u001b[43m)\u001b[49m\n",
      "Input \u001b[0;32mIn [18]\u001b[0m, in \u001b[0;36mcirculator\u001b[0;34m(fasta, output_file_name)\u001b[0m\n\u001b[1;32m      7\u001b[0m fasta\u001b[38;5;241m.\u001b[39mseq \u001b[38;5;241m=\u001b[39m new_seq\n\u001b[1;32m      8\u001b[0m \u001b[38;5;28;01mwith\u001b[39;00m \u001b[38;5;28mopen\u001b[39m(output_file_name,\u001b[38;5;124m'\u001b[39m\u001b[38;5;124mw\u001b[39m\u001b[38;5;124m'\u001b[39m) \u001b[38;5;28;01mas\u001b[39;00m file:\n\u001b[0;32m----> 9\u001b[0m     \u001b[43mSeqIO\u001b[49m\u001b[38;5;241;43m.\u001b[39;49m\u001b[43mwrite\u001b[49m\u001b[43m(\u001b[49m\u001b[43mfasta\u001b[49m\u001b[43m,\u001b[49m\u001b[43m \u001b[49m\u001b[43mfile\u001b[49m\u001b[43m,\u001b[49m\u001b[43m \u001b[49m\u001b[38;5;124;43m\"\u001b[39;49m\u001b[38;5;124;43mfasta\u001b[39;49m\u001b[38;5;124;43m\"\u001b[39;49m\u001b[43m)\u001b[49m\n",
      "File \u001b[0;32m/data/software/anaconda/lib/python3.8/site-packages/Bio/SeqIO/__init__.py:518\u001b[0m, in \u001b[0;36mwrite\u001b[0;34m(sequences, handle, format)\u001b[0m\n\u001b[1;32m    516\u001b[0m \u001b[38;5;28;01mwith\u001b[39;00m as_handle(handle, \u001b[38;5;124m\"\u001b[39m\u001b[38;5;124mw\u001b[39m\u001b[38;5;124m\"\u001b[39m) \u001b[38;5;28;01mas\u001b[39;00m fp:\n\u001b[1;32m    517\u001b[0m     \u001b[38;5;28;01mfor\u001b[39;00m record \u001b[38;5;129;01min\u001b[39;00m sequences:\n\u001b[0;32m--> 518\u001b[0m         fp\u001b[38;5;241m.\u001b[39mwrite(\u001b[43mformat_function\u001b[49m\u001b[43m(\u001b[49m\u001b[43mrecord\u001b[49m\u001b[43m)\u001b[49m)\n\u001b[1;32m    519\u001b[0m         count \u001b[38;5;241m+\u001b[39m\u001b[38;5;241m=\u001b[39m \u001b[38;5;241m1\u001b[39m\n\u001b[1;32m    520\u001b[0m \u001b[38;5;28;01mreturn\u001b[39;00m count\n",
      "File \u001b[0;32m/data/software/anaconda/lib/python3.8/site-packages/Bio/SeqIO/FastaIO.py:389\u001b[0m, in \u001b[0;36mas_fasta\u001b[0;34m(record)\u001b[0m\n\u001b[1;32m    386\u001b[0m \u001b[38;5;28;01massert\u001b[39;00m \u001b[38;5;124m\"\u001b[39m\u001b[38;5;130;01m\\r\u001b[39;00m\u001b[38;5;124m\"\u001b[39m \u001b[38;5;129;01mnot\u001b[39;00m \u001b[38;5;129;01min\u001b[39;00m title\n\u001b[1;32m    387\u001b[0m lines \u001b[38;5;241m=\u001b[39m [\u001b[38;5;124m\"\u001b[39m\u001b[38;5;124m>\u001b[39m\u001b[38;5;132;01m%s\u001b[39;00m\u001b[38;5;130;01m\\n\u001b[39;00m\u001b[38;5;124m\"\u001b[39m \u001b[38;5;241m%\u001b[39m title]\n\u001b[0;32m--> 389\u001b[0m data \u001b[38;5;241m=\u001b[39m \u001b[43m_get_seq_string\u001b[49m\u001b[43m(\u001b[49m\u001b[43mrecord\u001b[49m\u001b[43m)\u001b[49m  \u001b[38;5;66;03m# Catches sequence being None\u001b[39;00m\n\u001b[1;32m    390\u001b[0m \u001b[38;5;28;01massert\u001b[39;00m \u001b[38;5;124m\"\u001b[39m\u001b[38;5;130;01m\\n\u001b[39;00m\u001b[38;5;124m\"\u001b[39m \u001b[38;5;129;01mnot\u001b[39;00m \u001b[38;5;129;01min\u001b[39;00m data\n\u001b[1;32m    391\u001b[0m \u001b[38;5;28;01massert\u001b[39;00m \u001b[38;5;124m\"\u001b[39m\u001b[38;5;130;01m\\r\u001b[39;00m\u001b[38;5;124m\"\u001b[39m \u001b[38;5;129;01mnot\u001b[39;00m \u001b[38;5;129;01min\u001b[39;00m data\n",
      "File \u001b[0;32m/data/software/anaconda/lib/python3.8/site-packages/Bio/SeqIO/Interfaces.py:109\u001b[0m, in \u001b[0;36m_get_seq_string\u001b[0;34m(record)\u001b[0m\n\u001b[1;32m    107\u001b[0m     \u001b[38;5;28;01mraise\u001b[39;00m \u001b[38;5;167;01mTypeError\u001b[39;00m(\u001b[38;5;124m\"\u001b[39m\u001b[38;5;124mSeqRecord (id=\u001b[39m\u001b[38;5;132;01m%s\u001b[39;00m\u001b[38;5;124m) has None for its sequence.\u001b[39m\u001b[38;5;124m\"\u001b[39m \u001b[38;5;241m%\u001b[39m record\u001b[38;5;241m.\u001b[39mid)\n\u001b[1;32m    108\u001b[0m \u001b[38;5;28;01melif\u001b[39;00m \u001b[38;5;129;01mnot\u001b[39;00m \u001b[38;5;28misinstance\u001b[39m(record\u001b[38;5;241m.\u001b[39mseq, (Seq, MutableSeq)):\n\u001b[0;32m--> 109\u001b[0m     \u001b[38;5;28;01mraise\u001b[39;00m \u001b[38;5;167;01mTypeError\u001b[39;00m(\u001b[38;5;124m\"\u001b[39m\u001b[38;5;124mSeqRecord (id=\u001b[39m\u001b[38;5;132;01m%s\u001b[39;00m\u001b[38;5;124m) has an invalid sequence.\u001b[39m\u001b[38;5;124m\"\u001b[39m \u001b[38;5;241m%\u001b[39m record\u001b[38;5;241m.\u001b[39mid)\n\u001b[1;32m    110\u001b[0m \u001b[38;5;28;01mreturn\u001b[39;00m \u001b[38;5;28mstr\u001b[39m(record\u001b[38;5;241m.\u001b[39mseq)\n",
      "\u001b[0;31mTypeError\u001b[0m: SeqRecord (id=NC_007181.1) has an invalid sequence."
     ]
    }
   ],
   "source": [
    "path_strain = \"/data/huixingqi/sim_meta/HiResim/s.fasta\"\n",
    "with open(path_strain) as file:\n",
    "    for record in SeqIO.parse(file,\"fasta\"):\n",
    "        record_seq = record.seq\n",
    "output_file_name = \"/data/huixingqi/sim_meta/HiResim/strain.fasta\"\n",
    "circulator(record,output_file_name)"
   ]
  },
  {
   "cell_type": "code",
   "execution_count": null,
   "id": "cb54b447-a6c3-4453-8843-6ff5faf47982",
   "metadata": {},
   "outputs": [],
   "source": []
  }
 ],
 "metadata": {
  "kernelspec": {
   "display_name": "Python 3 (ipykernel)",
   "language": "python",
   "name": "python3"
  },
  "language_info": {
   "codemirror_mode": {
    "name": "ipython",
    "version": 3
   },
   "file_extension": ".py",
   "mimetype": "text/x-python",
   "name": "python",
   "nbconvert_exporter": "python",
   "pygments_lexer": "ipython3",
   "version": "3.8.13"
  }
 },
 "nbformat": 4,
 "nbformat_minor": 5
}
