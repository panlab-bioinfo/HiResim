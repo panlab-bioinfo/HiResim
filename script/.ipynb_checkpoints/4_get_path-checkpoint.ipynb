{
 "cells": [
  {
   "cell_type": "code",
   "execution_count": 1,
   "id": "d5c274d3-d0b5-4148-ab0d-f1e6751665f7",
   "metadata": {},
   "outputs": [],
   "source": [
    "import pandas as pd\n",
    "import numpy as np"
   ]
  },
  {
   "cell_type": "code",
   "execution_count": 4,
   "id": "abbfbce1-e3a9-48e6-a9c9-fefd4c9e2d8f",
   "metadata": {},
   "outputs": [
    {
     "name": "stdout",
     "output_type": "stream",
     "text": [
      "202163\n"
     ]
    }
   ],
   "source": [
    "path_df_1 = \"/data/huixingqi/sim_meta/HiResim/tools/down_strain.csv\"\n",
    "path_df_2 = \"/data/huixingqi/sim_meta/HiResim/data/down_strain.csv\"\n",
    "df_1 = pd.read_csv(path_df_1,header=None,sep=\"\\t\")\n",
    "df_2 = pd.read_csv(path_df_2,header=None,sep=\"\\t\")\n",
    "\n",
    "df_all = pd.concat([df_1,df_2])\n",
    "df_all = df_all.reset_index(drop=True)\n",
    "print(len(df_all))\n",
    "df_all_nodp = df_all.drop_duplicates()\n",
    "df_all_nodp.to_csv(\"/data/huixingqi/sim_meta/HiResim/tools/strain_path.csv\")"
   ]
  },
  {
   "cell_type": "code",
   "execution_count": 3,
   "id": "d94143e1-0b74-4744-8a37-fd8fc36d038f",
   "metadata": {},
   "outputs": [
    {
     "name": "stdout",
     "output_type": "stream",
     "text": [
      "140016\n"
     ]
    }
   ],
   "source": [
    "print(len(df_all_nodp))"
   ]
  },
  {
   "cell_type": "code",
   "execution_count": null,
   "id": "52aa74bb-2e28-43b3-9ab5-17287774ab13",
   "metadata": {},
   "outputs": [],
   "source": [
    "#mv /data/huixingqi/sim_meta/HiResim/tools/down_strain.csv /data/huixingqi/sim_meta/mhrec/tools/down_strain.csv\n",
    "\n"
   ]
  }
 ],
 "metadata": {
  "kernelspec": {
   "display_name": "Python 3 (ipykernel)",
   "language": "python",
   "name": "python3"
  },
  "language_info": {
   "codemirror_mode": {
    "name": "ipython",
    "version": 3
   },
   "file_extension": ".py",
   "mimetype": "text/x-python",
   "name": "python",
   "nbconvert_exporter": "python",
   "pygments_lexer": "ipython3",
   "version": "3.8.13"
  }
 },
 "nbformat": 4,
 "nbformat_minor": 5
}
