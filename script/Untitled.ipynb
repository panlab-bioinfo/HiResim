{
 "cells": [
  {
   "cell_type": "code",
   "execution_count": 1,
   "id": "b6d38f66-d0b2-4f45-922f-67a158b0fa2a",
   "metadata": {},
   "outputs": [],
   "source": [
    "from Bio import SeqIO\n",
    "from Bio.Seq import Seq"
   ]
  },
  {
   "cell_type": "code",
   "execution_count": 24,
   "id": "d55ff1d9-f485-48f8-a975-94dea6be5199",
   "metadata": {},
   "outputs": [],
   "source": [
    "def circulator(fasta, output_file_name):\n",
    "    # fasta=SeqIO.parse(input_file,\"fasta\")\n",
    "    print(fasta.seq)\n",
    "    fasta_seq = fasta.seq\n",
    "    new_seq = str(fasta_seq)+str(fasta_seq[:30000])\n",
    "    print(\"new_seq\",new_seq)\n",
    "    print(fasta)\n",
    "    fasta.seq = Seq(new_seq)\n",
    "    with open(output_file_name,'w') as file:\n",
    "        SeqIO.write(fasta, file, \"fasta\")"
   ]
  },
  {
   "cell_type": "code",
   "execution_count": 25,
   "id": "3b0a177f-7022-4fc4-9f08-f7979f6e754e",
   "metadata": {},
   "outputs": [
    {
     "name": "stdout",
     "output_type": "stream",
     "text": [
      "ATCG\n",
      "new_seq ATCGATCG\n",
      "ID: NC_007181.1\n",
      "Name: NC_007181.1\n",
      "Description: NC_007181.1\n",
      "Number of features: 0\n",
      "Seq('ATCG')\n"
     ]
    }
   ],
   "source": [
    "path_strain = \"/data/huixingqi/sim_meta/HiResim/s.fasta\"\n",
    "with open(path_strain) as file:\n",
    "    for record in SeqIO.parse(file,\"fasta\"):\n",
    "        record_seq = record.seq\n",
    "output_file_name = \"/data/huixingqi/sim_meta/HiResim/strain.fasta\"\n",
    "circulator(record,output_file_name)"
   ]
  },
  {
   "cell_type": "code",
   "execution_count": null,
   "id": "cb54b447-a6c3-4453-8843-6ff5faf47982",
   "metadata": {},
   "outputs": [],
   "source": []
  }
 ],
 "metadata": {
  "kernelspec": {
   "display_name": "Python 3 (ipykernel)",
   "language": "python",
   "name": "python3"
  },
  "language_info": {
   "codemirror_mode": {
    "name": "ipython",
    "version": 3
   },
   "file_extension": ".py",
   "mimetype": "text/x-python",
   "name": "python",
   "nbconvert_exporter": "python",
   "pygments_lexer": "ipython3",
   "version": "3.8.13"
  }
 },
 "nbformat": 4,
 "nbformat_minor": 5
}
